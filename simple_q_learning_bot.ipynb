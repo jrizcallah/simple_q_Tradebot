{
 "cells": [
  {
   "cell_type": "markdown",
   "metadata": {},
   "source": [
    "# This notebook creates a simple Q-Learning AI_trader from scratch"
   ]
  },
  {
   "cell_type": "code",
   "execution_count": 338,
   "metadata": {},
   "outputs": [],
   "source": [
    "import pandas as pd\n",
    "import numpy as np\n",
    "from sklearn.ensemble import RandomForestClassifier\n",
    "from sklearn.metrics import accuracy_score\n",
    "import matplotlib.pyplot as plt\n",
    "import seaborn as sns\n",
    "import json"
   ]
  },
  {
   "cell_type": "markdown",
   "metadata": {},
   "source": [
    "The AI_trader needs to be told:\n",
    "\n",
    "* What information can we look at?\n",
    "* What actions are available?\n",
    "* What states can we be in?\n",
    "* How fast should it learn?\n",
    "* How much more valuable is instant gratification?\n",
    "\n",
    "At each time step:\n",
    "\n",
    "1. Train a model on all timesteps up to that point\n",
    "2. Get the \"state\" from the model (**state** will be the binned probability of an up-move)\n",
    "3. Decide on the best **action** (or take an action at random)\n",
    "4. Receive **reward**\n",
    "5. Update the **q-table**\n",
    "6. Go to next timestep\n",
    "\n",
    "The model:\n",
    "\n",
    "* Random Forest model, uses the last 25 daily pct_changes to predict if the next one will be positive or negative\n",
    "* Predict the probability of an up-move, then put the probability in the proper bin:\n",
    "    * 0-0.1999 $\\implies$ State = 0\n",
    "    * 0.2 - 0.3999 $\\implies$ State = 1\n",
    "    * 0.4 - 0.5999 $\\implies$ State = 2\n",
    "    * 0.6 - 0.7999 $\\implies$ State = 3\n",
    "    * 0.8 - 1 $\\implies$ State = 4\n",
    "    \n",
    "For this one, the only thing we care about is that the AI_trader not lose money. \n",
    "* If *profit* $\\ge$ 0, **reward** = 1\n",
    "* otherwise **reward** = -1"
   ]
  },
  {
   "cell_type": "code",
   "execution_count": 529,
   "metadata": {},
   "outputs": [],
   "source": [
    "class AI_trader():\n",
    "    \n",
    "    def __init__(self, df, state_list, action_list, learning_rate, discount_rate, random_rate, lookback_window, commission):\n",
    "        self.df = df\n",
    "        self.time = lookback_window*2 - 1\n",
    "        self.Close = df['Close'][:lookback_window*2]\n",
    "        self.Open = df['Open'][:lookback_window*2]\n",
    "        self.state_list = state_list\n",
    "        self.action_list = action_list\n",
    "        self.learning_rate = learning_rate\n",
    "        self.discount_rate = discount_rate\n",
    "        self.lookback_window = lookback_window\n",
    "        self.commission = commission\n",
    "        self.value_over_time = [10000]\n",
    "        self.times_through = 0\n",
    "        self.random_rate = random_rate\n",
    "        \n",
    "        self.q_table = np.zeros((len(state_list), len(action_list)))\n",
    "        \n",
    "    def build_model(self):\n",
    "        df_sliced = []\n",
    "        for i in range(lookback_window, len(self.Close)):\n",
    "            df_sliced.append(self.Close[i-lookback_window:i])\n",
    "            \n",
    "        self.df_sliced_array = np.array(df_sliced)\n",
    "        \n",
    "        y = []\n",
    "        for i in range(lookback_window, len(self.Close)-1):\n",
    "            y.append(self.Close[i] - self.Close[i-1])\n",
    "        y_array = np.array(y)\n",
    "        y_binary = (y_array > 0) * 1\n",
    "        \n",
    "        self.model = RandomForestClassifier()\n",
    "        self.model.fit(self.df_sliced_array[:-1], y_binary)\n",
    "        \n",
    "    def get_state(self):\n",
    "        prob_up = self.model.predict_proba(self.df_sliced_array[-1].reshape(1,-1))[0][1]\n",
    "        if prob_up < 0.2:\n",
    "            self.state = 0\n",
    "        elif prob_up < 0.4:\n",
    "            self.state = 1\n",
    "        elif prob_up < 0.6:\n",
    "            self.state = 2\n",
    "        elif prob_up < 0.8:\n",
    "            self.state = 3\n",
    "        else:\n",
    "            self.state = 4\n",
    "            \n",
    "    def get_action(self):\n",
    "        if np.random.rand() < self.random_rate:\n",
    "            self.action = np.random.choice(self.action_list)\n",
    "        else:\n",
    "            q_s = self.q_table[self.state,:]\n",
    "            where = np.where(q_s == np.max(q_s))[0]\n",
    "            self.action = self.action_list[np.random.choice(where)]\n",
    "            \n",
    "    def step_forward(self):\n",
    "        self.time += 1\n",
    "            \n",
    "    def get_next_open(self):\n",
    "        self.Open[self.time] = self.df['Open'][self.time]\n",
    "        \n",
    "    def take_action(self):\n",
    "        if self.action == 0:\n",
    "            self.value = -self.Open[self.time] * (1 + self.commission)\n",
    "        elif self.action == 1:\n",
    "            self.value =  self.Open[self.time] * (1 - self.commission)\n",
    "        else:\n",
    "            self.value = 0\n",
    "    \n",
    "    def get_next_close(self):\n",
    "        self.Close[self.time] = self.df['Close'][self.time]\n",
    "    \n",
    "    def get_reward(self):\n",
    "        \n",
    "        if self.value < 0:\n",
    "            self.value += self.Close[self.time] * (1 - self.commission)\n",
    "        elif self.value > 0:\n",
    "            self.value -= self.Close[self.time] * (1 + self.commission)\n",
    "        \n",
    "        if self.value > 0:\n",
    "            self.reward = 1\n",
    "        elif self.value < 0:\n",
    "            self.reward = -1\n",
    "        else:\n",
    "            self.reward = 0\n",
    "            \n",
    "        self.value_over_time.append(self.value_over_time[-1] + self.value)\n",
    "\n",
    "    def update_qtable(self):\n",
    "        self.q_table[self.state, self.action] = self.q_table[self.state, self.action] + learning_rate * (self.reward)\n",
    "        \n",
    "    def trade(self):\n",
    "        self.step_forward()\n",
    "        self.build_model()\n",
    "        self.get_state()\n",
    "        self.get_action()\n",
    "        self.get_next_open()\n",
    "        self.take_action()\n",
    "        self.get_next_close()\n",
    "        self.get_reward()\n",
    "        self.update_qtable()\n",
    "    \n",
    "    def reset(self, name):\n",
    "        self.times_through += 1\n",
    "        data_out = {\n",
    "            \"learning_rate\":self.learning_rate,\n",
    "            \"discount_rate\":self.discount_rate,\n",
    "            \"lookback_window\":lookback_window,\n",
    "            \"random_rate\":self.random_rate,\n",
    "            \"commission\":commission,\n",
    "            \"q_table\":self.q_table.tolist(),\n",
    "            \"value_over_time\":self.value_over_time\n",
    "        }\n",
    "        with open(name + str(self.times_through)+ \".json\", \"w\") as outfile: \n",
    "            json.dump(data_out, outfile)\n",
    "        \n",
    "        self.df = df\n",
    "        self.time = lookback_window*2 - 1\n",
    "        self.Close = df['Close'][:lookback_window*2]\n",
    "        self.Open = df['Open'][:lookback_window*2]\n",
    "        self.state_list = state_list\n",
    "        self.action_list = action_list\n",
    "        self.learning_rate = learning_rate\n",
    "        self.discount_rate = discount_rate\n",
    "        self.lookback_window = lookback_window\n",
    "        self.commission = commission\n",
    "        self.value_over_time = [10000]\n",
    "        \n",
    "        "
   ]
  },
  {
   "cell_type": "code",
   "execution_count": 530,
   "metadata": {},
   "outputs": [
    {
     "data": {
      "text/html": [
       "<div>\n",
       "<style scoped>\n",
       "    .dataframe tbody tr th:only-of-type {\n",
       "        vertical-align: middle;\n",
       "    }\n",
       "\n",
       "    .dataframe tbody tr th {\n",
       "        vertical-align: top;\n",
       "    }\n",
       "\n",
       "    .dataframe thead th {\n",
       "        text-align: right;\n",
       "    }\n",
       "</style>\n",
       "<table border=\"1\" class=\"dataframe\">\n",
       "  <thead>\n",
       "    <tr style=\"text-align: right;\">\n",
       "      <th></th>\n",
       "      <th>index</th>\n",
       "      <th>Date</th>\n",
       "      <th>Open</th>\n",
       "      <th>High</th>\n",
       "      <th>Low</th>\n",
       "      <th>Close</th>\n",
       "      <th>Adj Close</th>\n",
       "      <th>Volume</th>\n",
       "    </tr>\n",
       "  </thead>\n",
       "  <tbody>\n",
       "    <tr>\n",
       "      <th>0</th>\n",
       "      <td>0</td>\n",
       "      <td>2020-01-29</td>\n",
       "      <td>9357.470703</td>\n",
       "      <td>9406.431641</td>\n",
       "      <td>9269.467773</td>\n",
       "      <td>9316.629883</td>\n",
       "      <td>9316.629883</td>\n",
       "      <td>3.068260e+10</td>\n",
       "    </tr>\n",
       "    <tr>\n",
       "      <th>1</th>\n",
       "      <td>1</td>\n",
       "      <td>2020-01-30</td>\n",
       "      <td>9316.016602</td>\n",
       "      <td>9553.125977</td>\n",
       "      <td>9230.897461</td>\n",
       "      <td>9508.993164</td>\n",
       "      <td>9508.993164</td>\n",
       "      <td>3.237879e+10</td>\n",
       "    </tr>\n",
       "    <tr>\n",
       "      <th>2</th>\n",
       "      <td>2</td>\n",
       "      <td>2020-01-31</td>\n",
       "      <td>9508.313477</td>\n",
       "      <td>9521.706055</td>\n",
       "      <td>9230.776367</td>\n",
       "      <td>9350.529297</td>\n",
       "      <td>9350.529297</td>\n",
       "      <td>2.943249e+10</td>\n",
       "    </tr>\n",
       "    <tr>\n",
       "      <th>3</th>\n",
       "      <td>3</td>\n",
       "      <td>2020-02-01</td>\n",
       "      <td>9346.357422</td>\n",
       "      <td>9439.323242</td>\n",
       "      <td>9313.239258</td>\n",
       "      <td>9392.875000</td>\n",
       "      <td>9392.875000</td>\n",
       "      <td>2.592266e+10</td>\n",
       "    </tr>\n",
       "    <tr>\n",
       "      <th>4</th>\n",
       "      <td>4</td>\n",
       "      <td>2020-02-02</td>\n",
       "      <td>9389.820313</td>\n",
       "      <td>9468.797852</td>\n",
       "      <td>9217.824219</td>\n",
       "      <td>9344.365234</td>\n",
       "      <td>9344.365234</td>\n",
       "      <td>3.083574e+10</td>\n",
       "    </tr>\n",
       "    <tr>\n",
       "      <th>...</th>\n",
       "      <td>...</td>\n",
       "      <td>...</td>\n",
       "      <td>...</td>\n",
       "      <td>...</td>\n",
       "      <td>...</td>\n",
       "      <td>...</td>\n",
       "      <td>...</td>\n",
       "      <td>...</td>\n",
       "    </tr>\n",
       "    <tr>\n",
       "      <th>357</th>\n",
       "      <td>361</td>\n",
       "      <td>2021-01-24</td>\n",
       "      <td>32064.376953</td>\n",
       "      <td>32944.007813</td>\n",
       "      <td>31106.685547</td>\n",
       "      <td>32289.378906</td>\n",
       "      <td>32289.378906</td>\n",
       "      <td>4.864383e+10</td>\n",
       "    </tr>\n",
       "    <tr>\n",
       "      <th>358</th>\n",
       "      <td>362</td>\n",
       "      <td>2021-01-25</td>\n",
       "      <td>32285.798828</td>\n",
       "      <td>34802.742188</td>\n",
       "      <td>32087.787109</td>\n",
       "      <td>32366.392578</td>\n",
       "      <td>32366.392578</td>\n",
       "      <td>5.989705e+10</td>\n",
       "    </tr>\n",
       "    <tr>\n",
       "      <th>359</th>\n",
       "      <td>363</td>\n",
       "      <td>2021-01-26</td>\n",
       "      <td>32358.613281</td>\n",
       "      <td>32794.550781</td>\n",
       "      <td>31030.265625</td>\n",
       "      <td>32569.849609</td>\n",
       "      <td>32569.849609</td>\n",
       "      <td>6.025542e+10</td>\n",
       "    </tr>\n",
       "    <tr>\n",
       "      <th>360</th>\n",
       "      <td>364</td>\n",
       "      <td>2021-01-27</td>\n",
       "      <td>32564.029297</td>\n",
       "      <td>32564.029297</td>\n",
       "      <td>29367.138672</td>\n",
       "      <td>30432.546875</td>\n",
       "      <td>30432.546875</td>\n",
       "      <td>6.257676e+10</td>\n",
       "    </tr>\n",
       "    <tr>\n",
       "      <th>361</th>\n",
       "      <td>366</td>\n",
       "      <td>2021-01-29</td>\n",
       "      <td>34266.066406</td>\n",
       "      <td>34410.117188</td>\n",
       "      <td>33739.902344</td>\n",
       "      <td>34146.968750</td>\n",
       "      <td>34146.968750</td>\n",
       "      <td>8.255927e+10</td>\n",
       "    </tr>\n",
       "  </tbody>\n",
       "</table>\n",
       "<p>362 rows × 8 columns</p>\n",
       "</div>"
      ],
      "text/plain": [
       "     index        Date          Open          High           Low  \\\n",
       "0        0  2020-01-29   9357.470703   9406.431641   9269.467773   \n",
       "1        1  2020-01-30   9316.016602   9553.125977   9230.897461   \n",
       "2        2  2020-01-31   9508.313477   9521.706055   9230.776367   \n",
       "3        3  2020-02-01   9346.357422   9439.323242   9313.239258   \n",
       "4        4  2020-02-02   9389.820313   9468.797852   9217.824219   \n",
       "..     ...         ...           ...           ...           ...   \n",
       "357    361  2021-01-24  32064.376953  32944.007813  31106.685547   \n",
       "358    362  2021-01-25  32285.798828  34802.742188  32087.787109   \n",
       "359    363  2021-01-26  32358.613281  32794.550781  31030.265625   \n",
       "360    364  2021-01-27  32564.029297  32564.029297  29367.138672   \n",
       "361    366  2021-01-29  34266.066406  34410.117188  33739.902344   \n",
       "\n",
       "            Close     Adj Close        Volume  \n",
       "0     9316.629883   9316.629883  3.068260e+10  \n",
       "1     9508.993164   9508.993164  3.237879e+10  \n",
       "2     9350.529297   9350.529297  2.943249e+10  \n",
       "3     9392.875000   9392.875000  2.592266e+10  \n",
       "4     9344.365234   9344.365234  3.083574e+10  \n",
       "..            ...           ...           ...  \n",
       "357  32289.378906  32289.378906  4.864383e+10  \n",
       "358  32366.392578  32366.392578  5.989705e+10  \n",
       "359  32569.849609  32569.849609  6.025542e+10  \n",
       "360  30432.546875  30432.546875  6.257676e+10  \n",
       "361  34146.968750  34146.968750  8.255927e+10  \n",
       "\n",
       "[362 rows x 8 columns]"
      ]
     },
     "execution_count": 530,
     "metadata": {},
     "output_type": "execute_result"
    }
   ],
   "source": [
    "df = pd.read_csv('BTC-USD.csv')\n",
    "df.dropna(inplace=True)\n",
    "df = df.reset_index()\n",
    "df"
   ]
  },
  {
   "cell_type": "code",
   "execution_count": 531,
   "metadata": {},
   "outputs": [],
   "source": [
    "state_list = [0, 1, 2, 3, 4]\n",
    "action_list = [0, 1, 2]\n",
    "learning_rate = 0.2\n",
    "discount_rate = 0.9\n",
    "random_rate = 0.1\n",
    "lookback_window = 5\n",
    "commission = 0"
   ]
  },
  {
   "cell_type": "code",
   "execution_count": 532,
   "metadata": {},
   "outputs": [],
   "source": [
    "Trade_bot = AI_trader(df, state_list, action_list, learning_rate, discount_rate, random_rate, lookback_window, commission)"
   ]
  },
  {
   "cell_type": "code",
   "execution_count": 704,
   "metadata": {},
   "outputs": [],
   "source": [
    "for i in range(df.shape[0] - (lookback_window * 2) - 1):\n",
    "        Trade_bot.trade()"
   ]
  },
  {
   "cell_type": "code",
   "execution_count": 705,
   "metadata": {},
   "outputs": [
    {
     "data": {
      "text/plain": [
       "[<matplotlib.lines.Line2D at 0x7fd734adde80>]"
      ]
     },
     "execution_count": 705,
     "metadata": {},
     "output_type": "execute_result"
    },
    {
     "data": {
      "image/png": "[encoded data removed]",
      "text/plain": [
       "<Figure size 432x288 with 1 Axes>"
      ]
     },
     "metadata": {
      "needs_background": "light"
     },
     "output_type": "display_data"
    }
   ],
   "source": [
    "plt.plot(Trade_bot.value_over_time)"
   ]
  },
  {
   "cell_type": "code",
   "execution_count": 706,
   "metadata": {},
   "outputs": [
    {
     "data": {
      "text/plain": [
       "360"
      ]
     },
     "execution_count": 706,
     "metadata": {},
     "output_type": "execute_result"
    }
   ],
   "source": [
    "Trade_bot.time"
   ]
  },
  {
   "cell_type": "code",
   "execution_count": 707,
   "metadata": {},
   "outputs": [
    {
     "data": {
      "text/plain": [
       "array([[  3.2,  -0.6,   0. ],\n",
       "       [ 90.8, -17.4,   0. ],\n",
       "       [ 34.2,  -8. ,   0. ],\n",
       "       [ -0.8,  -1.2,   0. ],\n",
       "       [ -1.2,   5.2,   0. ]])"
      ]
     },
     "execution_count": 707,
     "metadata": {},
     "output_type": "execute_result"
    }
   ],
   "source": [
    "Trade_bot.q_table"
   ]
  },
  {
   "cell_type": "code",
   "execution_count": 708,
   "metadata": {},
   "outputs": [
    {
     "name": "stdout",
     "output_type": "stream",
     "text": [
      "Total Return:  2.497285155500003\n",
      "Average Daily Return:  0.004246567883320582\n",
      "St. Dev. of Daily Returns:  0.03530985153788981\n",
      "Sharpe Ratio:  0.1202658096356971\n"
     ]
    }
   ],
   "source": [
    "whole_return = (Trade_bot.value_over_time[-1] - Trade_bot.value_over_time[0]) / Trade_bot.value_over_time[0]\n",
    "print(\"Total Return: \", whole_return)\n",
    "\n",
    "avg_daily_return = pd.DataFrame(Trade_bot.value_over_time).pct_change().mean()[0]\n",
    "print('Average Daily Return: ', avg_daily_return)\n",
    "\n",
    "sd_returns = pd.DataFrame(Trade_bot.value_over_time).pct_change().std()[0]\n",
    "print('St. Dev. of Daily Returns: ', sd_returns)\n",
    "\n",
    "sharpe_ratio = avg_daily_return / sd_returns\n",
    "print(\"Sharpe Ratio: \", sharpe_ratio)"
   ]
  },
  {
   "cell_type": "code",
   "execution_count": 699,
   "metadata": {},
   "outputs": [],
   "source": [
    "Trade_bot.reset(name='Trade_bot')"
   ]
  },
  {
   "cell_type": "code",
   "execution_count": 700,
   "metadata": {},
   "outputs": [
    {
     "data": {
      "text/plain": [
       "9"
      ]
     },
     "execution_count": 700,
     "metadata": {},
     "output_type": "execute_result"
    }
   ],
   "source": [
    "Trade_bot.time"
   ]
  },
  {
   "cell_type": "code",
   "execution_count": 701,
   "metadata": {},
   "outputs": [
    {
     "data": {
      "text/plain": [
       "20"
      ]
     },
     "execution_count": 701,
     "metadata": {},
     "output_type": "execute_result"
    }
   ],
   "source": [
    "Trade_bot.times_through"
   ]
  },
  {
   "cell_type": "code",
   "execution_count": 702,
   "metadata": {},
   "outputs": [],
   "source": [
    "Trade_bot.random_rate = 0"
   ]
  },
  {
   "cell_type": "code",
   "execution_count": 703,
   "metadata": {},
   "outputs": [
    {
     "data": {
      "text/plain": [
       "0"
      ]
     },
     "execution_count": 703,
     "metadata": {},
     "output_type": "execute_result"
    }
   ],
   "source": [
    "Trade_bot.random_rate"
   ]
  },
  {
   "cell_type": "code",
   "execution_count": 709,
   "metadata": {},
   "outputs": [
    {
     "data": {
      "text/plain": [
       "[<matplotlib.lines.Line2D at 0x7fd7350056a0>]"
      ]
     },
     "execution_count": 709,
     "metadata": {},
     "output_type": "execute_result"
    },
    {
     "data": {
      "image/png": "[encoded data removed]",
      "text/plain": [
       "<Figure size 432x288 with 1 Axes>"
      ]
     },
     "metadata": {
      "needs_background": "light"
     },
     "output_type": "display_data"
    }
   ],
   "source": [
    "plt.plot(df['Close'])"
   ]
  },
  {
   "cell_type": "code",
   "execution_count": 719,
   "metadata": {},
   "outputs": [
    {
     "name": "stdout",
     "output_type": "stream",
     "text": [
      "Total Return:  2.665163173682339\n",
      "Average Daily Return:  0.004480565381380141\n",
      "St. Dev. of Daily Returns:  0.040522713514986874\n",
      "Sharpe Ratio:  0.11056923371439707\n"
     ]
    }
   ],
   "source": [
    "whole_return = (df.loc[df.shape[0]-1, 'Close'] - df.loc[0, 'Close']) / df.loc[0, 'Close']\n",
    "print(\"Total Return: \", whole_return)\n",
    "\n",
    "avg_daily_return = pd.DataFrame(df['Close']).pct_change().mean()[0]\n",
    "print('Average Daily Return: ', avg_daily_return)\n",
    "\n",
    "sd_returns = pd.DataFrame(df['Close']).pct_change().std()[0]\n",
    "print('St. Dev. of Daily Returns: ', sd_returns)\n",
    "\n",
    "sharpe_ratio = avg_daily_return / sd_returns\n",
    "print(\"Sharpe Ratio: \", sharpe_ratio)"
   ]
  },
  {
   "cell_type": "code",
   "execution_count": null,
   "metadata": {},
   "outputs": [],
   "source": []
  }
 ],
 "metadata": {
  "kernelspec": {
   "display_name": "Python 3",
   "language": "python",
   "name": "python3"
  },
  "language_info": {
   "codemirror_mode": {
    "name": "ipython",
    "version": 3
   },
   "file_extension": ".py",
   "mimetype": "text/x-python",
   "name": "python",
   "nbconvert_exporter": "python",
   "pygments_lexer": "ipython3",
   "version": "3.8.3"
  }
 },
 "nbformat": 4,
 "nbformat_minor": 5
}
